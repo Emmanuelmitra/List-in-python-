{
  "nbformat": 4,
  "nbformat_minor": 0,
  "metadata": {
    "colab": {
      "name": "list in python",
      "provenance": [],
      "authorship_tag": "ABX9TyPMov1Z6OES0moiw5xy4Uof",
      "include_colab_link": true
    },
    "kernelspec": {
      "name": "python3",
      "display_name": "Python 3"
    },
    "language_info": {
      "name": "python"
    }
  },
  "cells": [
    {
      "cell_type": "markdown",
      "metadata": {
        "id": "view-in-github",
        "colab_type": "text"
      },
      "source": [
        "<a href=\"https://colab.research.google.com/github/Emmanuelmitra/List-in-python-/blob/main/list_in_python.ipynb\" target=\"_parent\"><img src=\"https://colab.research.google.com/assets/colab-badge.svg\" alt=\"Open In Colab\"/></a>"
      ]
    },
    {
      "cell_type": "markdown",
      "source": [
        "# list\n",
        "A list is an ordered and mutable Python container, being one of the most common data structures in Python. To create a list, the elements are placed inside square brackets ([]), separated by commas. As shown above, lists can contain elements of different types as well as duplicated elements"
      ],
      "metadata": {
        "id": "Sb82QNulLCE6"
      }
    },
    {
      "cell_type": "code",
      "source": [
        "# Assign the first element of the list to list2 \n",
        "l=[12,3,4,5,6,8,9]\n",
        "l2=l[0]\n",
        "print(l2)\n"
      ],
      "metadata": {
        "colab": {
          "base_uri": "https://localhost:8080/"
        },
        "id": "BZcwTdZdLDYf",
        "outputId": "94d85662-2226-4b8f-bdf7-b3ee135e0141"
      },
      "execution_count": 1,
      "outputs": [
        {
          "output_type": "stream",
          "name": "stdout",
          "text": [
            "12\n"
          ]
        }
      ]
    },
    {
      "cell_type": "code",
      "source": [
        "# And let's print the second element directly inside print function.\n",
        "l=[1,2,3,4,5,4,8,9]\n",
        "print(l[2])\n"
      ],
      "metadata": {
        "colab": {
          "base_uri": "https://localhost:8080/"
        },
        "id": "7lk2A5xaLox0",
        "outputId": "69ffe965-9226-4ef6-8964-f993442255c9"
      },
      "execution_count": 2,
      "outputs": [
        {
          "output_type": "stream",
          "name": "stdout",
          "text": [
            "3\n"
          ]
        }
      ]
    },
    {
      "cell_type": "code",
      "source": [
        "#print the last element of list\n",
        "l=[1,2,3,41,2,99,100]\n",
        "print(l[-1])"
      ],
      "metadata": {
        "colab": {
          "base_uri": "https://localhost:8080/"
        },
        "id": "f6zGwOuuL7zO",
        "outputId": "1261983f-fc2b-445c-f947-670ac3197064"
      },
      "execution_count": 3,
      "outputs": [
        {
          "output_type": "stream",
          "name": "stdout",
          "text": [
            "100\n"
          ]
        }
      ]
    },
    {
      "cell_type": "code",
      "source": [
        "# append method will let you add items to your lists.\n",
        "# mitra to list1 using  .append() method.\n",
        "l1=['emmanuel', 'simon','hero']\n",
        "l1.append('mitra')\n",
        "print(l1)\n"
      ],
      "metadata": {
        "colab": {
          "base_uri": "https://localhost:8080/"
        },
        "id": "a6SnB15FMRGP",
        "outputId": "78a674c2-759c-4edc-9e90-e44d3ea86dec"
      },
      "execution_count": 7,
      "outputs": [
        {
          "output_type": "stream",
          "name": "stdout",
          "text": [
            "['emmanuel', 'simon', 'hero', 'mitra']\n"
          ]
        }
      ]
    },
    {
      "cell_type": "code",
      "source": [
        "# Lists can hold many type of data inside them. You can even add another\n",
        "#  list to a list as its element. This is called nested data in Python.\n",
        "# On line 3, this time add the sub-list: [\"socks\", \"tshirt\", \"pajamas\"]\n",
        "#  to the end of the gift_list.\n",
        "\n",
        "l1=['pants ', 'ties', 'belts']\n",
        "l2=[\"socks\", \"tshirt\", \"pajamas\"]\n",
        "l1.append(l2)\n",
        "print(l1)\n"
      ],
      "metadata": {
        "colab": {
          "base_uri": "https://localhost:8080/"
        },
        "id": "0j_veA6QMnhS",
        "outputId": "3ce4d7e9-440b-4d84-fd27-ccc65b3c1a80"
      },
      "execution_count": 9,
      "outputs": [
        {
          "output_type": "stream",
          "name": "stdout",
          "text": [
            "['pants ', 'ties', 'belts', ['socks', 'tshirt', 'pajamas']]\n"
          ]
        }
      ]
    },
    {
      "cell_type": "code",
      "source": [
        "# .insert() lets you specify the index you want to add your item.\n",
        "# On line 3, this time insert \"hero\" to index 3 of l1.\n",
        "l1=['emmanuel','simon','ironman','spyderman']\n",
        "l1.insert(2,'hero')\n",
        "print(l1)"
      ],
      "metadata": {
        "colab": {
          "base_uri": "https://localhost:8080/"
        },
        "id": "DTTbJrJiM9W2",
        "outputId": "2636dfed-a926-434a-f8f5-5006afb96df0"
      },
      "execution_count": 10,
      "outputs": [
        {
          "output_type": "stream",
          "name": "stdout",
          "text": [
            "['emmanuel', 'simon', 'hero', 'ironman', 'spyderman']\n"
          ]
        }
      ]
    },
    {
      "cell_type": "code",
      "source": [
        "# With .index() method you can learn the index number of an item inside your list. Assign the \n",
        "# index no of 100 to the l2.\n",
        "l=[1,2,3,100,222,1000,99]\n",
        "l.index(100)"
      ],
      "metadata": {
        "colab": {
          "base_uri": "https://localhost:8080/"
        },
        "id": "8Z01gVP_NjxK",
        "outputId": "f0c32280-6499-4f55-d5c9-a11e07fe718b"
      },
      "execution_count": 11,
      "outputs": [
        {
          "output_type": "execute_result",
          "data": {
            "text/plain": [
              "3"
            ]
          },
          "metadata": {},
          "execution_count": 11
        }
      ]
    },
    {
      "cell_type": "code",
      "source": [
        "# Using .append() method, add a new list to the end of the list which contains strings\n",
        "# : \"ironman\" and \"thor\"\n",
        "l1=['superman','krish','spyderman']\n",
        "l1.append(['ironman','thor'])\n",
        "print(l1)"
      ],
      "metadata": {
        "colab": {
          "base_uri": "https://localhost:8080/"
        },
        "id": "MehbM8EoOL_R",
        "outputId": "32fa40ec-6376-4f67-9239-03377cfb34a5"
      },
      "execution_count": 12,
      "outputs": [
        {
          "output_type": "stream",
          "name": "stdout",
          "text": [
            "['superman', 'krish', 'spyderman', ['ironman', 'thor']]\n"
          ]
        }
      ]
    },
    {
      "cell_type": "code",
      "source": [
        "# Using .remove() method, clear the last element of the list.\n",
        "l1=['superman', 'krish', 'spyderman', 'ironman', 'thor']\n",
        "l1.remove('thor')\n",
        "print(l1)"
      ],
      "metadata": {
        "colab": {
          "base_uri": "https://localhost:8080/"
        },
        "id": "4Q32yU69OhLG",
        "outputId": "6de147df-7d6d-423c-e2ca-d2db0ceabb09"
      },
      "execution_count": 16,
      "outputs": [
        {
          "output_type": "stream",
          "name": "stdout",
          "text": [
            "['superman', 'krish', 'spyderman', 'ironman']\n"
          ]
        }
      ]
    },
    {
      "cell_type": "code",
      "source": [
        "# Using .reverse() method, reverse the list.\n",
        "l1=[1,2,3,4,5]\n",
        "l1.reverse()\n",
        "print(l1)"
      ],
      "metadata": {
        "colab": {
          "base_uri": "https://localhost:8080/"
        },
        "id": "8GP0r5x4Oq2z",
        "outputId": "1c87624b-1784-4a57-8def-1145253d06d9"
      },
      "execution_count": 18,
      "outputs": [
        {
          "output_type": "stream",
          "name": "stdout",
          "text": [
            "[5, 4, 3, 2, 1]\n"
          ]
        }
      ]
    },
    {
      "cell_type": "code",
      "source": [
        "# Using .count() method, count how many times 6 occur in the lis\n",
        "l1=[1,2,1,2,3,3,33,3,3,91,100,122,13]\n",
        "l1.count(3)"
      ],
      "metadata": {
        "colab": {
          "base_uri": "https://localhost:8080/"
        },
        "id": "2ePCmKz4O9t8",
        "outputId": "0878dc47-dbd0-4390-8c09-321900d42723"
      },
      "execution_count": 21,
      "outputs": [
        {
          "output_type": "execute_result",
          "data": {
            "text/plain": [
              "4"
            ]
          },
          "metadata": {},
          "execution_count": 21
        }
      ]
    },
    {
      "cell_type": "code",
      "source": [
        "# Adding up all the items in a List w/ Sum Function\n",
        "# What is the sum of all the numbers in the list?\n",
        "l1=[2,1,3,4,11,2,400,8]\n",
        "l2=sum(l1)\n",
        "print(l2)"
      ],
      "metadata": {
        "colab": {
          "base_uri": "https://localhost:8080/"
        },
        "id": "xwxRGSVTPHVK",
        "outputId": "d0b525c3-b2b8-4e6a-a902-8f8de404e97b"
      },
      "execution_count": 22,
      "outputs": [
        {
          "output_type": "stream",
          "name": "stdout",
          "text": [
            "431\n"
          ]
        }
      ]
    },
    {
      "cell_type": "code",
      "source": [
        "# What is the minimum value in the list?\n",
        "l1=[6,3,2,222,11,222,99]\n",
        "l2=min(l1)\n",
        "print(l2)"
      ],
      "metadata": {
        "colab": {
          "base_uri": "https://localhost:8080/"
        },
        "id": "7j5xvDY-PcQI",
        "outputId": "80e420c1-f427-481b-d57d-9458b1a33cf3"
      },
      "execution_count": 23,
      "outputs": [
        {
          "output_type": "stream",
          "name": "stdout",
          "text": [
            "2\n"
          ]
        }
      ]
    },
    {
      "cell_type": "code",
      "source": [
        "# What is the maximum value in the list?\n",
        "l1=[5,3,4,1,1000]\n",
        "l2=max(l1)\n",
        "print(l2)"
      ],
      "metadata": {
        "colab": {
          "base_uri": "https://localhost:8080/"
        },
        "id": "UAwJ3uuSPoXh",
        "outputId": "9fb87884-366c-4375-e0c2-5339ed4b50fe"
      },
      "execution_count": 24,
      "outputs": [
        {
          "output_type": "stream",
          "name": "stdout",
          "text": [
            "1000\n"
          ]
        }
      ]
    },
    {
      "cell_type": "code",
      "source": [
        ""
      ],
      "metadata": {
        "id": "ZxYUpIZrPxyn"
      },
      "execution_count": null,
      "outputs": []
    },
    {
      "cell_type": "markdown",
      "source": [
        "## list indexing "
      ],
      "metadata": {
        "id": "d-u9ofFdP2R_"
      }
    },
    {
      "cell_type": "code",
      "source": [
        "l=[1,2,3,4,5]\n",
        "l[0]"
      ],
      "metadata": {
        "colab": {
          "base_uri": "https://localhost:8080/"
        },
        "id": "IJd5CYWxP4kh",
        "outputId": "8bbd5ba4-3b18-4a4c-a68b-6da7fd594075"
      },
      "execution_count": 25,
      "outputs": [
        {
          "output_type": "execute_result",
          "data": {
            "text/plain": [
              "1"
            ]
          },
          "metadata": {},
          "execution_count": 25
        }
      ]
    },
    {
      "cell_type": "code",
      "source": [
        "l[1]"
      ],
      "metadata": {
        "colab": {
          "base_uri": "https://localhost:8080/"
        },
        "id": "MowuHEuTP_RC",
        "outputId": "03d35337-ee50-460f-f6b7-a4e27ee9286a"
      },
      "execution_count": 26,
      "outputs": [
        {
          "output_type": "execute_result",
          "data": {
            "text/plain": [
              "2"
            ]
          },
          "metadata": {},
          "execution_count": 26
        }
      ]
    },
    {
      "cell_type": "code",
      "source": [
        "#last element of list \n",
        "l[-1]"
      ],
      "metadata": {
        "colab": {
          "base_uri": "https://localhost:8080/"
        },
        "id": "DVe_v5G9QAbZ",
        "outputId": "8efe23b7-b799-4783-85d5-080ed013a6ab"
      },
      "execution_count": 27,
      "outputs": [
        {
          "output_type": "execute_result",
          "data": {
            "text/plain": [
              "5"
            ]
          },
          "metadata": {},
          "execution_count": 27
        }
      ]
    },
    {
      "cell_type": "code",
      "source": [
        "l=['emmanuel','simon',1,2,3,4]\n",
        "l[0][3]"
      ],
      "metadata": {
        "colab": {
          "base_uri": "https://localhost:8080/",
          "height": 35
        },
        "id": "HwTRed1jQBlt",
        "outputId": "b6aa077f-7714-46e5-bf58-e64138a643fe"
      },
      "execution_count": 28,
      "outputs": [
        {
          "output_type": "execute_result",
          "data": {
            "application/vnd.google.colaboratory.intrinsic+json": {
              "type": "string"
            },
            "text/plain": [
              "'a'"
            ]
          },
          "metadata": {},
          "execution_count": 28
        }
      ]
    },
    {
      "cell_type": "code",
      "source": [
        "l=['emmanuel','simon',1,2,3,4]\n",
        "l[0][-1]\n"
      ],
      "metadata": {
        "colab": {
          "base_uri": "https://localhost:8080/",
          "height": 35
        },
        "id": "YLdKcIetQOWj",
        "outputId": "7c83a478-3c3f-44c3-90a7-e88078be8bc9"
      },
      "execution_count": 29,
      "outputs": [
        {
          "output_type": "execute_result",
          "data": {
            "application/vnd.google.colaboratory.intrinsic+json": {
              "type": "string"
            },
            "text/plain": [
              "'l'"
            ]
          },
          "metadata": {},
          "execution_count": 29
        }
      ]
    },
    {
      "cell_type": "code",
      "source": [
        "l=['emmanuel','simon',1,2,3,4]\n",
        "l[1][1]"
      ],
      "metadata": {
        "colab": {
          "base_uri": "https://localhost:8080/",
          "height": 35
        },
        "id": "YpFjMnYYQWs6",
        "outputId": "179bcfc7-dd72-4b12-bf40-d47107a02310"
      },
      "execution_count": 30,
      "outputs": [
        {
          "output_type": "execute_result",
          "data": {
            "application/vnd.google.colaboratory.intrinsic+json": {
              "type": "string"
            },
            "text/plain": [
              "'i'"
            ]
          },
          "metadata": {},
          "execution_count": 30
        }
      ]
    },
    {
      "cell_type": "code",
      "source": [
        "#end"
      ],
      "metadata": {
        "id": "rcrtGLY9Qam7"
      },
      "execution_count": 31,
      "outputs": []
    },
    {
      "cell_type": "code",
      "source": [
        ""
      ],
      "metadata": {
        "id": "qTioA5F3QcgC"
      },
      "execution_count": null,
      "outputs": []
    }
  ]
}